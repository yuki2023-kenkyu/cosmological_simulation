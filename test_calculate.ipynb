{
 "cells": [
  {
   "cell_type": "markdown",
   "id": "53a55b4c-9649-4f90-984c-2ea9a9137cdc",
   "metadata": {},
   "source": [
    "# Pythonを用いた宇宙モデルのシミュレーション"
   ]
  },
  {
   "cell_type": "markdown",
   "id": "744280ed-bde1-483a-bc22-30dbeeaba8b3",
   "metadata": {},
   "source": [
    "## 宇宙の発展とフリードマン方程式\n",
    "フリードマン方程式とは，宇宙のスケールの時間発展を記述する方程式．この式を時間で積分することにより宇宙の進化を求めることができる．\n",
    "\n",
    "以下は圧力のない物質が支配する場合の宇宙の進化を記述した方程式である．\n",
    "\\begin{equation}\n",
    "\\ddot{a} = -4\\pi G \\rho_0 \\frac{a_0^3}{3a^2} + \\frac{\\Lambda a}{3} \\label{a}\\tag{1}\n",
    "\\end{equation}\n",
    "\n",
    "$$a:スケール因子, G:万有引力定数, \\rho_0:宇宙の平均物質エネルギー密度の現在値, a_0:スケール因子の現在値, \\Lambda:宇宙項$$\n",
    "\n",
    "今回は，式(\\ref{a})を数値計算がしやすいようにより簡単にした次の方程式(\\ref{b})を新しい時間座標$X$で積分し，宇宙進化のシミュレーションを行う．\n",
    "\n",
    "\\begin{equation}\n",
    "\\bf Y'' = -\\frac{\\sigma_0}{Y^2} + (\\sigma_0 - q_0)Y \\label{b}\\tag{2}\n",
    "\\end{equation}\n",
    "\n",
    "$$ X = H_0 t(新しい時間座標), Y = \\frac{a}{a_0}(スケール因子の現在値を長さの単位に採用した新しい変数), \\sigma_0:密度パラメーター, q_0:減速パラメーター(スケール因子の相対的な加速度を与えるもの) $$"
   ]
  },
  {
   "cell_type": "markdown",
   "id": "8c430e19-15d8-4aff-88a7-b3b6030a4e64",
   "metadata": {},
   "source": [
    "## プログラムへの実装\n",
    "- フリードマン方程式を関数定義\n",
    "- 回転変換を行う関数の定義\n",
    "- フリードマン方程式を積分し，その３次元化を行うクラスの定義\n",
    "    - フリードマン方程式の積分\n",
    "        - $X_0=0$で$Y_0=1$かつ$Y'_0=1$という初期条件を与える\n",
    "        - 定義した初期条件から，正の時間の最大値$X_{max}$までフリードマン方程式を積分し未来を計算\n",
    "        - 同様に，同一の初期条件から，負の時間の最小値$X_{min}$までフリードマン方程式を積分し過去を計算\n",
    "    - 積分した結果を格納した配列を結合し，座標を２次元から３次元へと拡張\n",
    "        - 計算して得られた過去と未来の結果を時間と規格化されたスケール因子それぞれの配列について結合\n",
    "        - 回転変換前の３次元座標を定義\n",
    "          次の要件を満たすように座標を１つの配列に定義\n",
    "            - x座標：規格化されたスケール因子\n",
    "            - y座標：すべて0\n",
    "            - z座標：時間座標\n",
    "    - 座標を回転変換して，新しい座標を計算\n",
    "        - 回転変換を行う関数を呼び出し，x-z平面にある座標をz軸周りに回転させ，宇宙の発展の様子を3次元空間に投影\n",
    "- 作成した関数やクラスの動作を確認"
   ]
  },
  {
   "cell_type": "markdown",
   "id": "139d6512-2060-43d9-8dfc-39ca4ac2ed1b",
   "metadata": {},
   "source": [
    "## calculate.pyの作成"
   ]
  },
  {
   "cell_type": "markdown",
   "id": "ad1b2bd5-8b7d-4628-9ca8-a583992a3257",
   "metadata": {},
   "source": [
    "### 1. 使用するライブラリのインポート"
   ]
  },
  {
   "cell_type": "code",
   "execution_count": null,
   "id": "8e2e3aba-b50d-4fb3-b75e-58055099aaec",
   "metadata": {},
   "outputs": [],
   "source": [
    "\"\"\"フリードマン方程式の数値計算用モジュール．\"\"\"\n",
    "# 使用するライブラリをインポート\n",
    "'1'\n",
    "'2'"
   ]
  },
  {
   "cell_type": "markdown",
   "id": "97740b81-9c5a-4c73-b540-13c4c9dc5e14",
   "metadata": {},
   "source": [
    "### 2. フリードマン方程式の関数定義"
   ]
  },
  {
   "cell_type": "code",
   "execution_count": null,
   "id": "393b35c8-33e4-4999-a337-bc4c8071946f",
   "metadata": {},
   "outputs": [],
   "source": [
    "def friedmann_equation('3', '4', '5', '6'):\n",
    "    \"\"\"\n",
    "    フリードマン方程式の定義\n",
    "    Args:\n",
    "        time: 時間座標X\n",
    "        variables: 変数Yの初期条件を格納した配列 [Y_0, dY_dX_0]\n",
    "        sigma_0: 密度パラメーター\n",
    "        q_0: 減速パラメーター\n",
    "\n",
    "    Returns:\n",
    "        np.array: フリードマン方程式の結果を表す配列 [dY_dX, ddY_dXdX]\n",
    "    \"\"\"\n",
    "    normalized_scale_factor_a = variables[0]\n",
    "    dY_dX = variables[1]\n",
    "    ddY_dXdX = '7'\n",
    "    return np.array(['8', '9'])"
   ]
  },
  {
   "cell_type": "markdown",
   "id": "a9154df0-23d4-4d9c-a320-2964ccb81187",
   "metadata": {},
   "source": [
    "### 3. 回転変換を行う関数の定義"
   ]
  },
  {
   "cell_type": "code",
   "execution_count": null,
   "id": "bb8a0782-96c5-45f6-a359-ea79eebe5e1a",
   "metadata": {},
   "outputs": [],
   "source": [
    "def rotate_coordinates('10', '11'):\n",
    "    \"\"\"\n",
    "    座標をz軸周りに回転変換する関数\n",
    "    Args:\n",
    "        theta: 回転角度（ラジアン）\n",
    "        coordinate_matrix: 変換する座標を表す行列（3xNのNumPy配列）\n",
    "\n",
    "    Returns:\n",
    "        np.array: 回転変換後の座標行列（3xNのNumPy配列）\n",
    "    \"\"\"\n",
    "    # 回転行列の定義（Z軸周り）\n",
    "    rotation_matrix = np.array([['12', '13', 0.0],\n",
    "                                ['14', '12', 0.0],\n",
    "                                [0.0, 0.0, 1.0]])\n",
    "    return rotation_matrix @ coordinate_matrix"
   ]
  },
  {
   "cell_type": "markdown",
   "id": "7c972159-6322-4d3d-8587-8efda9eafc38",
   "metadata": {},
   "source": [
    "### フリードマン方程式を積分し，その３次元化を行うクラスの定義"
   ]
  },
  {
   "cell_type": "code",
   "execution_count": null,
   "id": "68b95234-a2c9-4562-af87-7894c6ffdafc",
   "metadata": {},
   "outputs": [],
   "source": [
    "class FriedmannEquationIntegrator:\n",
    "    \"\"\"\n",
    "    数値積分を実行し，グラフ化のためのx,y,z座標を計算するためのクラス\n",
    "    \"\"\"\n",
    "\n",
    "    def __init__(self,\n",
    "                 '15',\n",
    "                 '16',\n",
    "                 '17',\n",
    "                 '18',\n",
    "                 '19',\n",
    "                 '20'):\n",
    "        \"\"\"\n",
    "        コンストラクタ：インスタンス化されたときに最初に呼ばれる特別なメソッド，データの初期化を行う\n",
    "        Args:\n",
    "            ode_function: 常微分方程式を定義した関数\n",
    "            coordinate_function: 座標変換を定義した関数\n",
    "            sigma_0: 密度パラメーター\n",
    "            q_0: 減速パラメーター\n",
    "            K：宇宙の空間曲率\n",
    "            Lambda:宇宙項\n",
    "        \"\"\"\n",
    "        self.ode_function = ode_function\n",
    "        self.coordinate_function = coordinate_function\n",
    "        self.sigma_0 = sigma_0\n",
    "        self.q_0 = q_0\n",
    "        self.K = K\n",
    "        self.Lambda = Lambda\n",
    "        \n",
    "        self.initial_variables = '21'\n",
    "        self.time_plus = '22'\n",
    "        self.time_minus = '23'\n",
    "        self.num_points = '24'\n",
    "        self.phi = '25'.reshape(1, self.num_points)\n",
    "\n",
    "    def integrate(self, '26'):\n",
    "        \"\"\"\n",
    "        時間方向にフリードマン方程式を積分するメソッド\n",
    "        Args:\n",
    "            time_direction: 時間方向を表すタプル (t0, t1)\n",
    "\n",
    "        Returns:\n",
    "            sol: 積分結果を含むオブジェクト\n",
    "        \"\"\"\n",
    "        '27' = solve_ivp(self.ode_function,\n",
    "                        '26',\n",
    "                        self.initial_variables,\n",
    "                        '28',\n",
    "                        t_eval=None,\n",
    "                        rtol=1e-8,\n",
    "                        atol=1e-10,\n",
    "                        args=(self.sigma_0, self.q_0),\n",
    "                        dense_output=True)\n",
    "        return '27'\n",
    "\n",
    "    def concatenate_sol_array(self):\n",
    "        \"\"\"\n",
    "        積分して得られたndarray型の配列を結合し，回転変換前のx,y,z座標を求めるメソッド\n",
    "\n",
    "        Returns:\n",
    "            time_array: 過去の計算結果と未来の計算結果を結合した時間座標Xの配列\n",
    "            coordinate: 過去の計算結果と未来の計算結果を結合し，条件に沿って定義した回転変換前の３次元座標の配列\n",
    "        \"\"\"\n",
    "        sol_plus = '29'\n",
    "        sol_minus = self.integrate(self.time_minus)\n",
    "        time_array = '30'\n",
    "        scale_array = np.concatenate([sol_minus.y[0][::-1], sol_plus.y[0]])\n",
    "        coordinate = np.array(\n",
    "            [scale_array, np.zeros(len(time_array)), time_array]\n",
    "        ).reshape(3, len(time_array))\n",
    "        return time_array, coordinate\n",
    "\n",
    "    def calculate_rotated_coordinates(self):\n",
    "        \"\"\"\n",
    "        回転行列によって変換したx,y,z座標を求めるメソッド\n",
    "        Returns:\n",
    "            x_new: 回転変換後のx座標の配列\n",
    "            y_new: 回転変換後のy座標の配列\n",
    "            z_new: 回転変換後のz座標の配列\n",
    "        \"\"\"\n",
    "        '31', '32' = '33'\n",
    "        new_coordinate = np.array(\n",
    "            [\n",
    "                np.array([\n",
    "                    self.coordinate_function(self.phi[0, i], coordinate[:, j])\n",
    "                    for i in range(self.phi.shape[1])\n",
    "                ]).T\n",
    "                for j in range(len(time_array))\n",
    "            ]\n",
    "        )\n",
    "        x_new = '34'\n",
    "        y_new = '35'\n",
    "        z_new = '36'\n",
    "        return x_new, y_new, z_new\n"
   ]
  },
  {
   "cell_type": "markdown",
   "id": "9f9368e2-4599-44f4-91ef-997ca4731690",
   "metadata": {},
   "source": [
    "## calculate.pyの動作テスト"
   ]
  },
  {
   "cell_type": "markdown",
   "id": "46142c76-a0f9-4f39-b8b8-da76ffc5c8c9",
   "metadata": {},
   "source": [
    "### 1. rotate_coordinates(theta, coordinate_matrix)関数の動作確認"
   ]
  },
  {
   "cell_type": "code",
   "execution_count": null,
   "id": "765057ca-a56d-432a-a413-ca607e20eeaa",
   "metadata": {},
   "outputs": [],
   "source": [
    "# 適当な３×３の行列を用意\n",
    "\n",
    "# 行列の中身の確認\n"
   ]
  },
  {
   "cell_type": "code",
   "execution_count": null,
   "id": "bfe64d3a-6c9f-4efa-aad6-7136fa04f9ca",
   "metadata": {},
   "outputs": [],
   "source": [
    "# 回転角の設定\n",
    "\n",
    "# 回転変換を施す関数を上で定義した行列に対して実行\n",
    "\n",
    "# 回転変換後の行列の確認\n"
   ]
  },
  {
   "cell_type": "markdown",
   "id": "f7acf29d-a7ef-4fa2-8fd2-4bd85a569039",
   "metadata": {},
   "source": [
    "### 2. インスタンス化"
   ]
  },
  {
   "cell_type": "code",
   "execution_count": null,
   "id": "cb7b043d-d4b6-42e0-ba76-b2a838b4140a",
   "metadata": {},
   "outputs": [],
   "source": [
    "\n",
    "\n",
    "\n",
    "\n",
    "\n",
    "\n",
    "\n"
   ]
  },
  {
   "cell_type": "markdown",
   "id": "8b41a36b-6b37-4faf-be7e-1bc5cacfb035",
   "metadata": {},
   "source": [
    "### 3. concatenate_sol_arrayメソッドの呼び出し"
   ]
  },
  {
   "cell_type": "code",
   "execution_count": null,
   "id": "4b7eb689-38e2-45bb-a848-0e4641e389d8",
   "metadata": {},
   "outputs": [],
   "source": [
    "\n",
    "\n"
   ]
  },
  {
   "cell_type": "code",
   "execution_count": null,
   "id": "a286dc6f-48dc-4e2a-b057-0a978e472d48",
   "metadata": {},
   "outputs": [],
   "source": [
    "# 配列の形状確認\n"
   ]
  },
  {
   "cell_type": "markdown",
   "id": "c1ba9ea3-5314-4517-8e04-bd9398ddcc43",
   "metadata": {},
   "source": [
    "### 4. フリードマン方程式の計算結果の確認（２次元）"
   ]
  },
  {
   "cell_type": "code",
   "execution_count": null,
   "id": "51b72042-74f8-4290-b300-8dbd5e0ca568",
   "metadata": {},
   "outputs": [],
   "source": [
    "# グラフ化するために必要なライブラリのインポート\n",
    "\n",
    "# グラフの描画領域の設定\n",
    "\n",
    "# グラフを描画領域にプロット\n",
    "\n",
    "# 軸ラベルの設定\n",
    "\n"
   ]
  },
  {
   "cell_type": "markdown",
   "id": "f4605fa4-b82e-4570-92f8-b943c5b26006",
   "metadata": {},
   "source": [
    "### 5. calculate_rotated_coordinatesメソッドの呼び出し"
   ]
  },
  {
   "cell_type": "code",
   "execution_count": null,
   "id": "54ca8b7f-106f-44ce-a09d-5e04da27ab78",
   "metadata": {},
   "outputs": [],
   "source": []
  },
  {
   "cell_type": "markdown",
   "id": "9a99d6ff-9f4d-4149-a760-6fbe2299de9b",
   "metadata": {},
   "source": [
    "### 6. 回転変換後の座標の可視化(３次元)"
   ]
  },
  {
   "cell_type": "code",
   "execution_count": null,
   "id": "de5c1566-7192-4d32-b12a-b03b47a2a1d7",
   "metadata": {},
   "outputs": [],
   "source": [
    "#「output.py」で作成したdraw_plot関数をインポート\n",
    "\n",
    "# 関数の実行\n"
   ]
  }
 ],
 "metadata": {
  "kernelspec": {
   "display_name": "Python 3 (ipykernel)",
   "language": "python",
   "name": "python3"
  },
  "language_info": {
   "codemirror_mode": {
    "name": "ipython",
    "version": 3
   },
   "file_extension": ".py",
   "mimetype": "text/x-python",
   "name": "python",
   "nbconvert_exporter": "python",
   "pygments_lexer": "ipython3",
   "version": "3.10.9"
  }
 },
 "nbformat": 4,
 "nbformat_minor": 5
}
