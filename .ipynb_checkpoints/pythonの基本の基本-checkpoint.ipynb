{
 "cells": [
  {
   "cell_type": "markdown",
   "id": "ee4a0ddf-cd53-4ca8-977d-7cbe5602ee5f",
   "metadata": {},
   "source": [
    "## 以下には\"pythonの基本の基本\"　で使用する 構文 が書かれています。\n",
    "## ほとんどがそのまま 実行(Run) させれば　正常に動きますが、余裕があれば自分で入力し直して実行させてみてください😊\n",
    "## Question のところはみんなに入力,実行していただきます。"
   ]
  },
  {
   "cell_type": "markdown",
   "id": "bb74c2a8-1193-4dd1-8d9b-32e75b5d5774",
   "metadata": {},
   "source": [
    "#### print を　使ってみよう"
   ]
  },
  {
   "cell_type": "code",
   "execution_count": null,
   "id": "7d8ba6f4",
   "metadata": {},
   "outputs": [],
   "source": [
    "print(\"Hello,world!!\")"
   ]
  },
  {
   "cell_type": "code",
   "execution_count": null,
   "id": "104a3300",
   "metadata": {},
   "outputs": [],
   "source": [
    "print(\"おはよう\")"
   ]
  },
  {
   "cell_type": "code",
   "execution_count": null,
   "id": "5c4d8e8f",
   "metadata": {},
   "outputs": [],
   "source": [
    "print(1)"
   ]
  },
  {
   "cell_type": "code",
   "execution_count": null,
   "id": "a6d2d229",
   "metadata": {},
   "outputs": [],
   "source": [
    "print(3.141592)"
   ]
  },
  {
   "cell_type": "code",
   "execution_count": null,
   "id": "6f9d4522-125c-4b99-a25e-336819f191d6",
   "metadata": {},
   "outputs": [],
   "source": []
  },
  {
   "cell_type": "markdown",
   "id": "5a137e3c-fa9f-436e-8c95-2b4fb5c18553",
   "metadata": {},
   "source": [
    "## もし数字や記号を　全角　で入力すると??"
   ]
  },
  {
   "cell_type": "code",
   "execution_count": null,
   "id": "1eac8f0f",
   "metadata": {},
   "outputs": [],
   "source": [
    "print(１)"
   ]
  },
  {
   "cell_type": "code",
   "execution_count": null,
   "id": "aeea726e",
   "metadata": {},
   "outputs": [],
   "source": []
  },
  {
   "cell_type": "markdown",
   "id": "24dae8f4-f98f-4b3b-a589-7ab3e133afa8",
   "metadata": {},
   "source": [
    "## 代入してみよう"
   ]
  },
  {
   "cell_type": "code",
   "execution_count": null,
   "id": "b1bae0da",
   "metadata": {},
   "outputs": [],
   "source": [
    "a = 1\n",
    "print(a)"
   ]
  },
  {
   "cell_type": "code",
   "execution_count": null,
   "id": "411a1fb2",
   "metadata": {},
   "outputs": [],
   "source": []
  },
  {
   "cell_type": "markdown",
   "id": "90461ee0-0c59-497c-9b8f-3c0ba46a73d9",
   "metadata": {},
   "source": [
    "### Qestion ### \n",
    "### aに何を代入すれば\"Hello\"が出力される??"
   ]
  },
  {
   "cell_type": "raw",
   "id": "5e0bf250",
   "metadata": {},
   "source": [
    "a = \n",
    "print(a)"
   ]
  },
  {
   "cell_type": "code",
   "execution_count": null,
   "id": "9ac1327a",
   "metadata": {},
   "outputs": [],
   "source": []
  },
  {
   "cell_type": "markdown",
   "id": "3945aa25-0060-4973-92dc-b113872ac293",
   "metadata": {},
   "source": [
    "## リストに代入"
   ]
  },
  {
   "cell_type": "code",
   "execution_count": null,
   "id": "e7fce1fd",
   "metadata": {},
   "outputs": [],
   "source": [
    "number_list = [1,2,3,4]\n",
    "word_list = [\"apple\",\"orange\",\"tomato\"]\n",
    "all_list = [1,2,3,4,\"apple\",\"orange\",\"tomato\"]"
   ]
  },
  {
   "cell_type": "code",
   "execution_count": null,
   "id": "6f934674",
   "metadata": {},
   "outputs": [],
   "source": [
    "print(number_list)\n",
    "print(word_list)\n",
    "print(all_list)"
   ]
  },
  {
   "cell_type": "code",
   "execution_count": null,
   "id": "3559b7b1",
   "metadata": {},
   "outputs": [],
   "source": []
  },
  {
   "cell_type": "markdown",
   "id": "834bc7e8-2a81-4f58-8867-b3325e70643c",
   "metadata": {},
   "source": [
    "## 四則演算子 "
   ]
  },
  {
   "cell_type": "markdown",
   "id": "648b56d8-9c8f-4bf8-abcb-177346ece6fb",
   "metadata": {},
   "source": [
    "### Question ###\n",
    "### 5%3の答えを出力するには?"
   ]
  },
  {
   "cell_type": "code",
   "execution_count": null,
   "id": "cff764df",
   "metadata": {},
   "outputs": [],
   "source": [
    "print(       )"
   ]
  },
  {
   "cell_type": "code",
   "execution_count": null,
   "id": "2e2b4870",
   "metadata": {},
   "outputs": [],
   "source": []
  },
  {
   "cell_type": "markdown",
   "id": "47524d78-374b-42ab-8987-60d5b128d4be",
   "metadata": {},
   "source": [
    "##　条件(if) 文"
   ]
  },
  {
   "cell_type": "code",
   "execution_count": null,
   "id": "867d7d81",
   "metadata": {},
   "outputs": [],
   "source": [
    "x = 5\n",
    "if x < 10:\n",
    "    print('x is small')"
   ]
  },
  {
   "cell_type": "code",
   "execution_count": null,
   "id": "4c515ed9",
   "metadata": {},
   "outputs": [],
   "source": []
  },
  {
   "cell_type": "markdown",
   "id": "d01ef740-ff4c-477f-868a-bf51520f2e93",
   "metadata": {},
   "source": [
    "## 繰り返し(for)文 "
   ]
  },
  {
   "cell_type": "code",
   "execution_count": null,
   "id": "b65e20a5",
   "metadata": {},
   "outputs": [],
   "source": [
    "for i in [1, 2, 3]:\n",
    "    print( i * 3 )"
   ]
  },
  {
   "cell_type": "code",
   "execution_count": null,
   "id": "12a024cf",
   "metadata": {},
   "outputs": [],
   "source": [
    "for i in [\"a\", \"b\", \"c\"]:\n",
    "    print( i * 3 )"
   ]
  },
  {
   "cell_type": "code",
   "execution_count": null,
   "id": "80db8af7",
   "metadata": {},
   "outputs": [],
   "source": []
  },
  {
   "cell_type": "markdown",
   "id": "0c1b87f1-bd4e-4cea-a231-17348b638a42",
   "metadata": {},
   "source": [
    "## 関数定義(def)"
   ]
  },
  {
   "cell_type": "code",
   "execution_count": null,
   "id": "25153747",
   "metadata": {},
   "outputs": [],
   "source": [
    "def warikan(fee, number):\n",
    "    ans = fee / number\n",
    "    return ans"
   ]
  },
  {
   "cell_type": "code",
   "execution_count": null,
   "id": "40c16b18",
   "metadata": {},
   "outputs": [],
   "source": [
    "warikan(49000, 7)"
   ]
  },
  {
   "cell_type": "code",
   "execution_count": null,
   "id": "559121ab",
   "metadata": {},
   "outputs": [],
   "source": []
  }
 ],
 "metadata": {
  "kernelspec": {
   "display_name": "Python 3 (ipykernel)",
   "language": "python",
   "name": "python3"
  },
  "language_info": {
   "codemirror_mode": {
    "name": "ipython",
    "version": 3
   },
   "file_extension": ".py",
   "mimetype": "text/x-python",
   "name": "python",
   "nbconvert_exporter": "python",
   "pygments_lexer": "ipython3",
   "version": "3.10.9"
  }
 },
 "nbformat": 4,
 "nbformat_minor": 5
}
