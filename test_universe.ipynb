{
 "cells": [
  {
   "cell_type": "markdown",
   "metadata": {
    "id": "OPz9a64C8va7"
   },
   "source": [
    "# 密度パラメーターを用いて書き換えたFriedmann方程式の数値計算シミュレーション"
   ]
  },
  {
   "cell_type": "markdown",
   "metadata": {
    "id": "xlVu26L6882A"
   },
   "source": [
    "## モジュールのインポート"
   ]
  },
  {
   "cell_type": "code",
   "execution_count": 1,
   "metadata": {
    "colab": {
     "base_uri": "https://localhost:8080/"
    },
    "id": "UoyYSV5528YR",
    "outputId": "f35d9508-77a6-4360-fbe2-7543c27f06f9"
   },
   "outputs": [],
   "source": [
    "# !pip install PySimpleGUI"
   ]
  },
  {
   "cell_type": "code",
   "execution_count": 2,
   "metadata": {},
   "outputs": [],
   "source": [
    "# !pip install cx_Freeze"
   ]
  },
  {
   "cell_type": "code",
   "execution_count": 3,
   "metadata": {
    "id": "qp0-4Nixhaya",
    "jupyter": {
     "source_hidden": true
    },
    "tags": []
   },
   "outputs": [],
   "source": [
    "import configparser\n",
    "import PySimpleGUI as sg"
   ]
  },
  {
   "cell_type": "code",
   "execution_count": 4,
   "metadata": {},
   "outputs": [],
   "source": [
    "from guidesign import Widget\n",
    "from eventhandlers import EventHandlers"
   ]
  },
  {
   "cell_type": "markdown",
   "metadata": {},
   "source": [
    "## https://qlitre-weblog.com/how-to-display-graph-on-pysimplegui/"
   ]
  },
  {
   "cell_type": "code",
   "execution_count": 5,
   "metadata": {},
   "outputs": [],
   "source": [
    "def main():\n",
    "    \"\"\"\n",
    "    メイン関数\n",
    "    \"\"\"\n",
    "    Widget.make_dpi_aware()\n",
    "    window = Widget.create_main_window()\n",
    "    config_ini = configparser.ConfigParser()\n",
    "\n",
    "    handlers = EventHandlers(window, config_ini)\n",
    "\n",
    "    while True:\n",
    "        event, values = window.read()\n",
    "\n",
    "        if event in (sg.WINDOW_CLOSED, '中止'):\n",
    "            sg.popup_ok('中止しました。')\n",
    "            break\n",
    "\n",
    "        if event == \"-FILE-\":\n",
    "            handlers.handle_file_event(values)\n",
    "\n",
    "        elif event == \"-MODEL-\":\n",
    "            handlers.handle_model_event(values)\n",
    "\n",
    "        elif event == \"-SIGMA-\":\n",
    "            handlers.handle_sigma_event(values)\n",
    "\n",
    "        elif event == \"-Q-\":\n",
    "            handlers.handle_q_event(values)\n",
    "\n",
    "        elif event == \"-SIGMA-TEXT-\":\n",
    "            handlers.handle_sigma_text_event(values)\n",
    "\n",
    "        elif event == \"-Q-TEXT-\":\n",
    "            handlers.handle_q_text_event(values)\n",
    "\n",
    "        elif event == \"実行\":\n",
    "            handlers.handle_execute_event(values)\n",
    "\n",
    "        elif event == \"グラフ表示\":\n",
    "            handlers.handle_plot_event(values)\n",
    "\n",
    "    window.close()"
   ]
  },
  {
   "cell_type": "code",
   "execution_count": 6,
   "metadata": {},
   "outputs": [],
   "source": [
    "if __name__ == \"__main__\":\n",
    "    main()"
   ]
  }
 ],
 "metadata": {
  "colab": {
   "provenance": []
  },
  "kernelspec": {
   "display_name": "Python 3 (ipykernel)",
   "language": "python",
   "name": "python3"
  },
  "language_info": {
   "codemirror_mode": {
    "name": "ipython",
    "version": 3
   },
   "file_extension": ".py",
   "mimetype": "text/x-python",
   "name": "python",
   "nbconvert_exporter": "python",
   "pygments_lexer": "ipython3",
   "version": "3.7.16"
  }
 },
 "nbformat": 4,
 "nbformat_minor": 4
}
